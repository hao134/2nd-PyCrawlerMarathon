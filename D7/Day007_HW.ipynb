{
  "nbformat": 4,
  "nbformat_minor": 0,
  "metadata": {
    "kernelspec": {
      "display_name": "Python 3",
      "language": "python",
      "name": "python3"
    },
    "language_info": {
      "codemirror_mode": {
        "name": "ipython",
        "version": 3
      },
      "file_extension": ".py",
      "mimetype": "text/x-python",
      "name": "python",
      "nbconvert_exporter": "python",
      "pygments_lexer": "ipython3",
      "version": "3.6.5"
    },
    "colab": {
      "name": "Day007_HW.ipynb",
      "provenance": []
    }
  },
  "cells": [
    {
      "cell_type": "markdown",
      "metadata": {
        "id": "DV1ltUgck0Ad",
        "colab_type": "text"
      },
      "source": [
        "# HTTP 靜態網頁架構說明\n",
        "\n",
        "* 認識靜態網頁的溝通架構與運作原理\n",
        "* HTML、CSS、JavaScript 在網頁中扮演的角色\n",
        "* 網頁中定位資料的方法"
      ]
    },
    {
      "cell_type": "markdown",
      "metadata": {
        "id": "BXIUTZmAk0Ah",
        "colab_type": "text"
      },
      "source": [
        "## 作業目標\n",
        "\n",
        "1. （簡答題）請問目前提到的這種基於 HTTP 一來一回的網頁傳輸方式，有哪些缺點及問題？\n",
        "2. （簡答題）網頁中使用的 JavaScipt 程式語言，跟我們一般使用的 Python 在執行上有什麼不同。\n"
      ]
    },
    {
      "cell_type": "markdown",
      "metadata": {
        "id": "UBTEDJAak0Ak",
        "colab_type": "text"
      },
      "source": [
        "### 1.（簡答題）請問目前提到的這種基於 HTTP 一來一回的網頁傳輸方式，有哪些缺點及問題？"
      ]
    },
    {
      "cell_type": "markdown",
      "metadata": {
        "id": "C_5EzFPxlEEW",
        "colab_type": "text"
      },
      "source": [
        "傳統的 HTTP 機制都是一個 Request 搭配一個 Response，如果畫面上一個小改變可能就需要重新發送 Request 並處理 Response。舉個例子：如果我的畫面上有很多張圖片，但只是想要改變一個小部分，但每次操作都必須全部圖片重新載入。"
      ]
    },
    {
      "cell_type": "markdown",
      "metadata": {
        "id": "rN29ku3Jk0A1",
        "colab_type": "text"
      },
      "source": [
        "### 2. （簡答題）網頁中使用的 JavaScipt 程式語言，跟我們一般使用的 Python 在執行上有什麼不同。"
      ]
    },
    {
      "cell_type": "markdown",
      "metadata": {
        "id": "S1RKVo4WlJVr",
        "colab_type": "text"
      },
      "source": [
        "JavaScipt 是執行在網頁瀏覽器上，Python 是執行在電腦的作業系統上。"
      ]
    },
    {
      "cell_type": "code",
      "metadata": {
        "id": "bKpEvtVuk0BQ",
        "colab_type": "code",
        "colab": {}
      },
      "source": [
        ""
      ],
      "execution_count": 0,
      "outputs": []
    }
  ]
}