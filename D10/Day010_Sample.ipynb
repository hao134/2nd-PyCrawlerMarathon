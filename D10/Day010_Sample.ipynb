{
  "nbformat": 4,
  "nbformat_minor": 0,
  "metadata": {
    "kernelspec": {
      "display_name": "Python 3",
      "language": "python",
      "name": "python3"
    },
    "language_info": {
      "codemirror_mode": {
        "name": "ipython",
        "version": 3
      },
      "file_extension": ".py",
      "mimetype": "text/x-python",
      "name": "python",
      "nbconvert_exporter": "python",
      "pygments_lexer": "ipython3",
      "version": "3.6.5"
    },
    "colab": {
      "name": "Day010_Sample.ipynb",
      "provenance": []
    }
  },
  "cells": [
    {
      "cell_type": "markdown",
      "metadata": {
        "id": "1K4Rvgf6INUY",
        "colab_type": "text"
      },
      "source": [
        "# 其他工具：Grab、PyQuery\n",
        "\n",
        "\n",
        "* 利用 Grab 套件的存取 HTML 資源\n",
        "* 利用 PyQuery 套件的解析 HTML 格式\n"
      ]
    },
    {
      "cell_type": "markdown",
      "metadata": {
        "id": "44kbKKEUINUb",
        "colab_type": "text"
      },
      "source": [
        "## Grab"
      ]
    },
    {
      "cell_type": "code",
      "metadata": {
        "id": "1hWuQgY_LVEf",
        "colab_type": "code",
        "colab": {
          "base_uri": "https://localhost:8080/",
          "height": 710
        },
        "outputId": "1f625cc7-ceac-415d-a668-486d38ea5fa8"
      },
      "source": [
        "pip install grab"
      ],
      "execution_count": 2,
      "outputs": [
        {
          "output_type": "stream",
          "text": [
            "Collecting grab\n",
            "\u001b[?25l  Downloading https://files.pythonhosted.org/packages/26/87/c0b939da311bed38c0c073fd61675cfbe4ba585c2a04370a5b7e106a2639/grab-0.6.41.tar.gz (1.1MB)\n",
            "\u001b[K     |████████████████████████████████| 1.1MB 2.8MB/s \n",
            "\u001b[?25hCollecting weblib>=0.1.28\n",
            "  Downloading https://files.pythonhosted.org/packages/67/16/2761dab6e8515708a2762dc34e6b8e089df21211d98f91d298911f2fd5b0/weblib-0.1.30.tar.gz\n",
            "Requirement already satisfied: six in /usr/local/lib/python3.6/dist-packages (from grab) (1.12.0)\n",
            "Collecting user_agent\n",
            "  Downloading https://files.pythonhosted.org/packages/c3/ca/15546284f62edfec7666ecb6403a6e77f5db850def37cd36f140d99cce02/user_agent-0.1.9.tar.gz\n",
            "Collecting selection\n",
            "  Downloading https://files.pythonhosted.org/packages/32/01/7e9f093e502c3b19d8fd8c7046de31534a0254bb6aaced0403739dc7f704/selection-0.0.14.tar.gz\n",
            "Requirement already satisfied: defusedxml in /usr/local/lib/python3.6/dist-packages (from grab) (0.6.0)\n",
            "Requirement already satisfied: lxml in /usr/local/lib/python3.6/dist-packages (from grab) (4.2.6)\n",
            "Collecting pycurl<7.43.0.2\n",
            "\u001b[?25l  Downloading https://files.pythonhosted.org/packages/77/d9/d272b38e6e25d2686e22f6058820298dadead69340b1c57ff84c87ef81f0/pycurl-7.43.0.1.tar.gz (195kB)\n",
            "\u001b[K     |████████████████████████████████| 204kB 43.0MB/s \n",
            "\u001b[?25hCollecting pytils\n",
            "\u001b[?25l  Downloading https://files.pythonhosted.org/packages/c6/c1/12b556b5bb393ce5130d57af862d045f57fee764797c0fe837e49cb2a5da/pytils-0.3.tar.gz (89kB)\n",
            "\u001b[K     |████████████████████████████████| 92kB 11.0MB/s \n",
            "\u001b[?25hBuilding wheels for collected packages: grab, weblib, user-agent, selection, pycurl, pytils\n",
            "  Building wheel for grab (setup.py) ... \u001b[?25l\u001b[?25hdone\n",
            "  Created wheel for grab: filename=grab-0.6.41-cp36-none-any.whl size=84696 sha256=c1e3bd871211127f41d7968393d0df5c565480b04576bc1d1ebb330a14e20283\n",
            "  Stored in directory: /root/.cache/pip/wheels/84/ff/2d/08f71c11e5b73027dfa7d1ac8bd654b60af2df57ae89bd29d5\n",
            "  Building wheel for weblib (setup.py) ... \u001b[?25l\u001b[?25hdone\n",
            "  Created wheel for weblib: filename=weblib-0.1.30-cp36-none-any.whl size=40154 sha256=f8147b78fe55da3d94ebfd11451fe7a6f08679a4fd03db6f5598f5699e45bbc9\n",
            "  Stored in directory: /root/.cache/pip/wheels/4d/92/d1/f89cbbefae35442b82a069a60f6b596c77f22ab5d58813e4a4\n",
            "  Building wheel for user-agent (setup.py) ... \u001b[?25l\u001b[?25hdone\n",
            "  Created wheel for user-agent: filename=user_agent-0.1.9-cp36-none-any.whl size=18807 sha256=6efafc2c676069f1db050ed00249dc4974ce5b2d62e2681ce0a8b8bf347e7aef\n",
            "  Stored in directory: /root/.cache/pip/wheels/92/80/3f/5d79277825042f2d4d447f594e3fc046f1e506f2b481d364b2\n",
            "  Building wheel for selection (setup.py) ... \u001b[?25l\u001b[?25hdone\n",
            "  Created wheel for selection: filename=selection-0.0.14-cp36-none-any.whl size=5358 sha256=462767d801c9d00afa9bc1b213d7a35b61621bd99998b72b382faea8946f7f9c\n",
            "  Stored in directory: /root/.cache/pip/wheels/f6/78/ea/df9f78c9f3fb643b9fc9f6e70fab990e5f8455024d34019418\n",
            "  Building wheel for pycurl (setup.py) ... \u001b[?25l\u001b[?25hdone\n",
            "  Created wheel for pycurl: filename=pycurl-7.43.0.1-cp36-cp36m-linux_x86_64.whl size=252569 sha256=149171adaca6b9fab5050723c424a6aa4aac9bc71c24d76b5eaab132afae70cf\n",
            "  Stored in directory: /root/.cache/pip/wheels/77/c8/b6/bed2606b4ae3cf738c99c111d88ce33d8ae82171c40cbddbf0\n",
            "  Building wheel for pytils (setup.py) ... \u001b[?25l\u001b[?25hdone\n",
            "  Created wheel for pytils: filename=pytils-0.3-cp36-none-any.whl size=40355 sha256=10e8be70f68cd9b96567a9108068bd6d9d2c5babca390673a04aad0bf244122c\n",
            "  Stored in directory: /root/.cache/pip/wheels/d6/f9/dc/4f07d8ee40d9cfca9973b3f4aeff99d0bb69900e5f3dffbf32\n",
            "Successfully built grab weblib user-agent selection pycurl pytils\n",
            "Installing collected packages: pytils, user-agent, weblib, selection, pycurl, grab\n",
            "Successfully installed grab-0.6.41 pycurl-7.43.0.1 pytils-0.3 selection-0.0.14 user-agent-0.1.9 weblib-0.1.30\n"
          ],
          "name": "stdout"
        }
      ]
    },
    {
      "cell_type": "code",
      "metadata": {
        "scrolled": false,
        "id": "I3ylS4xSINUd",
        "colab_type": "code",
        "colab": {
          "base_uri": "https://localhost:8080/",
          "height": 54
        },
        "outputId": "b69d700d-98c1-403f-9a24-4e99b15e3afe"
      },
      "source": [
        "from grab import Grab\n",
        "g = Grab()\n",
        "resp = g.go('https://google.com')\n",
        "resp.body"
      ],
      "execution_count": 3,
      "outputs": [
        {
          "output_type": "execute_result",
          "data": {
            "text/plain": [
              "b'<!doctype html><html itemscope=\"\" itemtype=\"http://schema.org/WebPage\" lang=\"en\"><head><meta content=\"IE=edge\" http-equiv=\"X-UA-Compatible\"><meta http-equiv=\"Content-Type\" content=\"text/html; charset=UTF-8\"><meta content=\"Search the world\\'s information, including webpages, images, videos and more. Google has many special features to help you find exactly what you\\'re looking for.\" name=\"description\"><meta content=\"noodp\" name=\"robots\"><meta content=\"/logos/doodles/2020/thank-you-grocery-workers-6753651837108758.2-law.gif\" itemprop=\"image\"><meta content=\"To all grocery workers, thank you\" property=\"twitter:title\"><meta content=\"To all grocery workers, thank you #GoogleDoodle #thankyouhelpers\" property=\"twitter:description\"><meta content=\"To all grocery workers, thank you #GoogleDoodle #thankyouhelpers\" property=\"og:description\"><meta content=\"summary_large_image\" property=\"twitter:card\"><meta content=\"@GoogleDoodles\" property=\"twitter:site\"><meta content=\"https://www.google.com/logos/doodles/2020/thank-you-grocery-workers-6753651837108758-2xa.gif\" property=\"twitter:image\"><meta content=\"https://www.google.com/logos/doodles/2020/thank-you-grocery-workers-6753651837108758-2xa.gif\" property=\"og:image\"><meta content=\"1288\" property=\"og:image:width\"><meta content=\"460\" property=\"og:image:height\"><meta content=\"https://www.google.com/logos/doodles/2020/thank-you-grocery-workers-6753651837108758-2xa.gif\" property=\"og:url\"><meta content=\"video.other\" property=\"og:type\"><title>Google</title><style>#gbar,#guser{font-size:13px;padding-top:1px !important;}#gbar{height:22px}#guser{padding-bottom:7px !important;text-align:right}.gbh,.gbd{border-top:1px solid #c9d7f1;font-size:1px}.gbh{height:0;position:absolute;top:24px;width:100%}@media all{.gb1{height:22px;margin-right:.5em;vertical-align:top}#gbar{float:left}}a.gb1,a.gb4{text-decoration:underline !important}a.gb1,a.gb4{color:#00c !important}.gbi .gb4{color:#dd8e27 !important}.gbf .gb4{color:#900 !important}\\n</style><style>body,td,a,p,.h{font-family:arial,sans-serif}body{background:#fff;color:#000;margin:0}#gog{padding:3px 10px 0}td{line-height:.8em}.gac_m td{line-height:17px}form{margin-bottom:20px}.h{color:#36c}.q{color:#00c}.ts td{padding:0}.ts{border-collapse:collapse}.lst{height:32px}.lst{margin-bottom:.2em;padding:4px 5px 0 5px;vertical-align:bottom;width:496px;font:17px arial,sans-serif}.lst:focus{outline:none}.lsb{border:1px solid;border-color:#ccc #999 #999 #ccc;height:1.85em !important;font:15px arial,sans-serif;vertical-align:top}.lsb:active{background:#ccc}em{font-weight:bold;font-style:normal}input{font-family:inherit}a{color:#11c;text-decoration:none}a:hover,a:active{text-decoration:underline}.fl a{color:#36c}a:visited{color:#551a8b}td.fl a{font-size:11px}</style></head><body bgcolor=\"#fff\"><div id=\"mngb\"> <div id=gbar><nobr><b class=gb1>Search</b> <a class=gb1 href=\"https://www.google.com/imghp?hl=en&tab=wi\">Images</a> <a class=gb1 href=\"https://maps.google.com/maps?hl=en&tab=wl\">Maps</a> <a class=gb1 href=\"https://play.google.com/?hl=en&tab=w8\">Play</a> <a class=gb1 href=\"https://www.youtube.com/?gl=US&tab=w1\">YouTube</a> <a class=gb1 href=\"https://news.google.com/nwshp?hl=en&tab=wn\">News</a> <a class=gb1 href=\"https://mail.google.com/mail/?tab=wm\">Gmail</a> <a class=gb1 href=\"https://drive.google.com/?tab=wo\">Drive</a> <a class=gb1 style=\"text-decoration:none\" href=\"https://www.google.com/intl/en/about/products?tab=wh\"><u>More</u> &raquo;</a></nobr></div><div id=guser width=100%><nobr><span id=gbn class=gbi></span><span id=gbf class=gbf></span><span id=gbe></span><a href=\"http://www.google.com/history/optout?hl=en\" class=gb4>Web History</a> | <a  href=\"/preferences?hl=en\" class=gb4>Settings</a> | <a target=_top id=gb_70 href=\"https://accounts.google.com/ServiceLogin?hl=en&passive=true&continue=https://www.google.com/\" class=gb4>Sign in</a></nobr></div><div class=gbh style=left:0></div><div class=gbh style=right:0></div> </div><center><br clear=\"all\" id=\"lgpd\"><div id=\"lga\"><a href=\"/search?q=thank+you+coronavirus+helpers&amp;oi=ddle&amp;ct=153204355&amp;hl=en&amp;sa=X&amp;ved=0ahUKEwiLl7u33eXoAhXmFqYKHWGqAQgQPQgC\"><img alt=\"To all grocery workers, thank you\" border=\"0\" height=\"196\" src=\"/logos/doodles/2020/thank-you-grocery-workers-6753651837108758.2-law.gif\" title=\"To all grocery workers, thank you\" width=\"550\" id=\"hplogo\"></a><br><br></div><form action=\"/search\" name=\"f\"><table cellpadding=\"0\" cellspacing=\"0\"><tr valign=\"top\"><td width=\"25%\">&nbsp;</td><td align=\"center\" nowrap=\"\"><input value=\"en\" name=\"hl\" type=\"hidden\"><input name=\"source\" type=\"hidden\" value=\"hp\"><input class=\"lst\" size=\"55\" value=\"\" title=\"Google Search\" maxlength=\"2048\" name=\"q\"><br><div style=\"font-size:0;height:5px\"></div><input class=\"lsb\" value=\"Google Search\" name=\"btnG\" type=\"submit\">&nbsp;<input class=\"lsb\" value=\"I\\'m Feeling Lucky\" name=\"btnI\" type=\"submit\"><input value=\"AINFCbYAAAAAXpSU7upbgy3zt-OlPBBWwQfM1w3AIniu\" name=\"iflsig\" type=\"hidden\"></td><td class=\"fl\" align=\"left\" nowrap=\"\" width=\"25%\">&nbsp;&nbsp;&nbsp;<a href=\"/advanced_search?hl=en&amp;authuser=0\">Advanced search</a></td></tr></table><input id=\"gbv\" name=\"gbv\" type=\"hidden\" value=\"1\"></form><div id=\"gac_scont\"></div><div style=\"font-size:83%;min-height:3.5em\"><br></div><span id=\"footer\"><div style=\"font-size:10pt;margin:19px auto;text-align:center\" id=\"fll\"><a href=\"/intl/en/ads/\">Advertising\\xc2\\xa0Programs</a>&nbsp; &nbsp; &nbsp;<a href=\"/services/\">Business Solutions</a>&nbsp; &nbsp; &nbsp;<a href=\"/intl/en/about.html\">About Google</a></div><p style=\"font-size:8pt;color:#767676\">&copy; 2020 - <a href=\"/intl/en/policies/privacy/\">Privacy</a> - <a href=\"/intl/en/policies/terms/\">Terms</a></p></span></center></body></html>'"
            ]
          },
          "metadata": {
            "tags": []
          },
          "execution_count": 3
        }
      ]
    },
    {
      "cell_type": "markdown",
      "metadata": {
        "id": "R9Wec3m5INUp",
        "colab_type": "text"
      },
      "source": [
        "## PyQuery"
      ]
    },
    {
      "cell_type": "code",
      "metadata": {
        "id": "DfjrRB4yLwYr",
        "colab_type": "code",
        "colab": {
          "base_uri": "https://localhost:8080/",
          "height": 138
        },
        "outputId": "a8eb8c84-e39a-45f7-ddba-acb7eabfdb59"
      },
      "source": [
        "pip install pyquery"
      ],
      "execution_count": 5,
      "outputs": [
        {
          "output_type": "stream",
          "text": [
            "Collecting pyquery\n",
            "  Downloading https://files.pythonhosted.org/packages/78/43/95d42e386c61cb639d1a0b94f0c0b9f0b7d6b981ad3c043a836c8b5bc68b/pyquery-1.4.1-py2.py3-none-any.whl\n",
            "Collecting cssselect>0.7.9\n",
            "  Downloading https://files.pythonhosted.org/packages/3b/d4/3b5c17f00cce85b9a1e6f91096e1cc8e8ede2e1be8e96b87ce1ed09e92c5/cssselect-1.1.0-py2.py3-none-any.whl\n",
            "Requirement already satisfied: lxml>=2.1 in /usr/local/lib/python3.6/dist-packages (from pyquery) (4.2.6)\n",
            "Installing collected packages: cssselect, pyquery\n",
            "Successfully installed cssselect-1.1.0 pyquery-1.4.1\n"
          ],
          "name": "stdout"
        }
      ]
    },
    {
      "cell_type": "code",
      "metadata": {
        "id": "MCy9YDqpINUr",
        "colab_type": "code",
        "colab": {
          "base_uri": "https://localhost:8080/",
          "height": 34
        },
        "outputId": "53c994ad-ca41-4ca3-c38d-376d79bd2303"
      },
      "source": [
        "from pyquery import PyQuery as pq\n",
        "doc = pq(resp.body)\n",
        "title = doc('title')\n",
        "print(type(title), title.text())"
      ],
      "execution_count": 6,
      "outputs": [
        {
          "output_type": "stream",
          "text": [
            "<class 'pyquery.pyquery.PyQuery'> Google\n"
          ],
          "name": "stdout"
        }
      ]
    },
    {
      "cell_type": "markdown",
      "metadata": {
        "id": "DxLn_2MMINUz",
        "colab_type": "text"
      },
      "source": [
        "## 作業目標\n",
        "\n",
        "將之前用 requests + beatifulsoup 實作的方式，改寫成 grab + pyquery，並且比較有哪些地方不同。\n",
        "\n",
        "\n",
        "\n"
      ]
    },
    {
      "cell_type": "code",
      "metadata": {
        "id": "u60hfzEUINU0",
        "colab_type": "code",
        "colab": {
          "base_uri": "https://localhost:8080/",
          "height": 34
        },
        "outputId": "7095f485-0266-470d-e272-cd94897d56d1"
      },
      "source": [
        "# requests + beautifulsoup\n",
        "import requests\n",
        "from bs4 import BeautifulSoup\n",
        "\n",
        "r = requests.get('https://google.com')\n",
        "soup = BeautifulSoup(r.text,'lxml')\n",
        "print(type(soup.title),soup.title.text)"
      ],
      "execution_count": 9,
      "outputs": [
        {
          "output_type": "stream",
          "text": [
            "<class 'bs4.element.Tag'> Google\n"
          ],
          "name": "stdout"
        }
      ]
    },
    {
      "cell_type": "code",
      "metadata": {
        "id": "MkQ_jEdIINU5",
        "colab_type": "code",
        "colab": {
          "base_uri": "https://localhost:8080/",
          "height": 34
        },
        "outputId": "bd9a574d-0724-4619-f857-c9896c118cd6"
      },
      "source": [
        "# grab + pyquery\n",
        "g = Grab()\n",
        "resp = g.go('https://google.com')\n",
        "doc = pq(resp.body)\n",
        "title = doc('title')\n",
        "print(type(title), title.text())"
      ],
      "execution_count": 14,
      "outputs": [
        {
          "output_type": "stream",
          "text": [
            "<class 'pyquery.pyquery.PyQuery'> Google\n"
          ],
          "name": "stdout"
        }
      ]
    },
    {
      "cell_type": "code",
      "metadata": {
        "id": "w2unBucTXEzJ",
        "colab_type": "code",
        "colab": {}
      },
      "source": [
        ""
      ],
      "execution_count": 0,
      "outputs": []
    }
  ]
}